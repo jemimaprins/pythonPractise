{
  "nbformat": 4,
  "nbformat_minor": 0,
  "metadata": {
    "colab": {
      "provenance": [],
      "include_colab_link": true
    },
    "kernelspec": {
      "name": "python3",
      "display_name": "Python 3"
    },
    "language_info": {
      "name": "python"
    }
  },
  "cells": [
    {
      "cell_type": "markdown",
      "metadata": {
        "id": "view-in-github",
        "colab_type": "text"
      },
      "source": [
        "<a href=\"https://colab.research.google.com/github/jemimaprins/pythonPractise/blob/Harley/pythonPractise.ipynb\" target=\"_parent\"><img src=\"https://colab.research.google.com/assets/colab-badge.svg\" alt=\"Open In Colab\"/></a>"
      ]
    },
    {
      "cell_type": "code",
      "execution_count": null,
      "metadata": {
        "id": "1OosvXZxQ6LA"
      },
      "outputs": [],
      "source": [
        "Harley Code Here"
      ]
    },
    {
      "cell_type": "code",
      "source": [
        "#code here\n",
        "x = 1+1\n",
        "print(x)"
      ],
      "metadata": {
        "colab": {
          "base_uri": "https://localhost:8080/"
        },
        "id": "Bb-FfukOQ9yU",
        "outputId": "ce89a913-bc9b-45ab-edc4-b6dc107a6aa3"
      },
      "execution_count": null,
      "outputs": [
        {
          "output_type": "stream",
          "name": "stdout",
          "text": [
            "2\n"
          ]
        }
      ]
    },
    {
      "cell_type": "code",
      "source": [
        "y = x * 3\n",
        "y"
      ],
      "metadata": {
        "colab": {
          "base_uri": "https://localhost:8080/"
        },
        "id": "IBkjBuYwVFEM",
        "outputId": "1910a23f-3c47-4d40-d1cb-f573ac611c85"
      },
      "execution_count": null,
      "outputs": [
        {
          "output_type": "execute_result",
          "data": {
            "text/plain": [
              "6"
            ]
          },
          "metadata": {},
          "execution_count": 3
        }
      ]
    },
    {
      "cell_type": "code",
      "source": [
        "z = x + y\n",
        "z"
      ],
      "metadata": {
        "id": "Uaqbii2wVQVY",
        "outputId": "21c67f3f-9eca-420c-8136-fae698bceab2",
        "colab": {
          "base_uri": "https://localhost:8080/"
        }
      },
      "execution_count": null,
      "outputs": [
        {
          "output_type": "execute_result",
          "data": {
            "text/plain": [
              "8"
            ]
          },
          "metadata": {},
          "execution_count": 4
        }
      ]
    },
    {
      "cell_type": "markdown",
      "source": [
        "Code Will Continue Here"
      ],
      "metadata": {
        "id": "n2jZJY2IXmbR"
      }
    },
    {
      "cell_type": "code",
      "source": [
        "H = z + y + z\n",
        "H"
      ],
      "metadata": {
        "colab": {
          "base_uri": "https://localhost:8080/"
        },
        "id": "QzZBbjEwYB6S",
        "outputId": "905ffddc-daca-4882-b2d6-1c1c3270d103"
      },
      "execution_count": 5,
      "outputs": [
        {
          "output_type": "execute_result",
          "data": {
            "text/plain": [
              "22"
            ]
          },
          "metadata": {},
          "execution_count": 5
        }
      ]
    }
  ]
}